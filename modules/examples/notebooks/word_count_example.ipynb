{
 "cells": [
  {
   "cell_type": "code",
   "execution_count": 1,
   "metadata": {},
   "outputs": [
    {
     "data": {
      "text/plain": [
       "\u001b[32mimport \u001b[39m\u001b[36m$ivy.$\u001b[39m\n",
       "\u001b[32mimport \u001b[39m\u001b[36m$ivy.$\u001b[39m\n",
       "\u001b[32mimport \u001b[39m\u001b[36morg.apache.flinkx.api._\u001b[39m\n",
       "\u001b[32mimport \u001b[39m\u001b[36morg.apache.flinkx.api.serializers._\u001b[39m\n",
       "\u001b[32mimport \u001b[39m\u001b[36morg.apache.flink.configuration.Configuration\u001b[39m"
      ]
     },
     "execution_count": 1,
     "metadata": {},
     "output_type": "execute_result"
    }
   ],
   "source": [
    "import $ivy.`org.flinkextended::flink-scala-api:1.18.1_1.1.6`\n",
    "import $ivy.`org.apache.flink:flink-clients:1.18.1`\n",
    "\n",
    "import org.apache.flinkx.api._\n",
    "import org.apache.flinkx.api.serializers._\n",
    "import org.apache.flink.configuration.Configuration"
   ]
  },
  {
   "cell_type": "code",
   "execution_count": 2,
   "metadata": {},
   "outputs": [
    {
     "name": "stderr",
     "output_type": "stream",
     "text": [
      "SLF4J(W): No SLF4J providers were found.\n",
      "SLF4J(W): Defaulting to no-operation (NOP) logger implementation\n",
      "SLF4J(W): See https://www.slf4j.org/codes.html#noProviders for further details.\n"
     ]
    },
    {
     "data": {
      "text/plain": [
       "\u001b[36menv\u001b[39m: \u001b[32mStreamExecutionEnvironment\u001b[39m = org.apache.flinkx.api.StreamExecutionEnvironment@fd2988a"
      ]
     },
     "execution_count": 2,
     "metadata": {},
     "output_type": "execute_result"
    }
   ],
   "source": [
    "val env = StreamExecutionEnvironment.createLocalEnvironmentWithWebUI(new Configuration())"
   ]
  },
  {
   "cell_type": "code",
   "execution_count": 10,
   "metadata": {},
   "outputs": [
    {
     "data": {
      "text/plain": [
       "\u001b[36mtext\u001b[39m: \u001b[32mDataStream\u001b[39m[\u001b[32mString\u001b[39m] = org.apache.flinkx.api.DataStream@4da98f07"
      ]
     },
     "execution_count": 10,
     "metadata": {},
     "output_type": "execute_result"
    }
   ],
   "source": [
    "val text = env.fromElements(\n",
    "    \"To be, or not to be,--that is the question:--\",\n",
    "    \"Whether 'tis nobler in the mind to suffer\",\n",
    "    \"The slings and arrows of outrageous fortune\",\n",
    "    \"Or to take arms against a sea of troubles,\"\n",
    "  )"
   ]
  },
  {
   "cell_type": "code",
   "execution_count": 11,
   "metadata": {},
   "outputs": [
    {
     "ename": "org.apache.flink.util.FlinkException",
     "evalue": "Failed to execute job 'wordCount'.",
     "output_type": "error",
     "traceback": [
      "\u001b[31morg.apache.flink.util.FlinkException: Failed to execute job 'wordCount'.\u001b[39m",
      "  org.apache.flink.streaming.api.environment.StreamExecutionEnvironment.executeAsync(\u001b[32mStreamExecutionEnvironment.java\u001b[39m:\u001b[32m2253\u001b[39m)",
      "  org.apache.flink.streaming.api.environment.StreamExecutionEnvironment.executeAsync(\u001b[32mStreamExecutionEnvironment.java\u001b[39m:\u001b[32m2219\u001b[39m)",
      "  org.apache.flink.streaming.api.datastream.DataStream.executeAndCollectWithClient(\u001b[32mDataStream.java\u001b[39m:\u001b[32m1471\u001b[39m)",
      "  org.apache.flink.streaming.api.datastream.DataStream.executeAndCollect(\u001b[32mDataStream.java\u001b[39m:\u001b[32m1336\u001b[39m)",
      "  org.apache.flinkx.api.DataStream.executeAndCollect(\u001b[32mDataStream.scala\u001b[39m:\u001b[32m851\u001b[39m)",
      "  ammonite.$sess.cell11$Helper.<init>(\u001b[32mcell11.sc\u001b[39m:\u001b[32m6\u001b[39m)",
      "  ammonite.$sess.cell11$.<clinit>(\u001b[32mcell11.sc\u001b[39m:\u001b[32m7\u001b[39m)",
      "\u001b[31mjava.lang.RuntimeException: org.apache.flink.runtime.client.JobInitializationException: Could not start the JobMaster.\u001b[39m",
      "  org.apache.flink.util.ExceptionUtils.rethrow(\u001b[32mExceptionUtils.java\u001b[39m:\u001b[32m321\u001b[39m)",
      "  org.apache.flink.util.function.FunctionUtils.lambda$uncheckedFunction$2(\u001b[32mFunctionUtils.java\u001b[39m:\u001b[32m75\u001b[39m)",
      "  java.util.concurrent.CompletableFuture$UniApply.tryFire(\u001b[32mCompletableFuture.java\u001b[39m:\u001b[32m642\u001b[39m)",
      "  java.util.concurrent.CompletableFuture$Completion.exec(\u001b[32mCompletableFuture.java\u001b[39m:\u001b[32m479\u001b[39m)",
      "  java.util.concurrent.ForkJoinTask.doExec(\u001b[32mForkJoinTask.java\u001b[39m:\u001b[32m290\u001b[39m)",
      "  java.util.concurrent.ForkJoinPool$WorkQueue.topLevelExec(\u001b[32mForkJoinPool.java\u001b[39m:\u001b[32m1020\u001b[39m)",
      "  java.util.concurrent.ForkJoinPool.scan(\u001b[32mForkJoinPool.java\u001b[39m:\u001b[32m1656\u001b[39m)",
      "  java.util.concurrent.ForkJoinPool.runWorker(\u001b[32mForkJoinPool.java\u001b[39m:\u001b[32m1594\u001b[39m)",
      "  java.util.concurrent.ForkJoinWorkerThread.run(\u001b[32mForkJoinWorkerThread.java\u001b[39m:\u001b[32m183\u001b[39m)",
      "\u001b[31morg.apache.flink.runtime.client.JobInitializationException: Could not start the JobMaster.\u001b[39m",
      "  org.apache.flink.runtime.jobmaster.DefaultJobMasterServiceProcess.lambda$new$0(\u001b[32mDefaultJobMasterServiceProcess.java\u001b[39m:\u001b[32m97\u001b[39m)",
      "  java.util.concurrent.CompletableFuture.uniWhenComplete(\u001b[32mCompletableFuture.java\u001b[39m:\u001b[32m859\u001b[39m)",
      "  java.util.concurrent.CompletableFuture$UniWhenComplete.tryFire(\u001b[32mCompletableFuture.java\u001b[39m:\u001b[32m837\u001b[39m)",
      "  java.util.concurrent.CompletableFuture.postComplete(\u001b[32mCompletableFuture.java\u001b[39m:\u001b[32m506\u001b[39m)",
      "  java.util.concurrent.CompletableFuture$AsyncSupply.run(\u001b[32mCompletableFuture.java\u001b[39m:\u001b[32m1705\u001b[39m)",
      "  java.util.concurrent.ThreadPoolExecutor.runWorker(\u001b[32mThreadPoolExecutor.java\u001b[39m:\u001b[32m1128\u001b[39m)",
      "  java.util.concurrent.ThreadPoolExecutor$Worker.run(\u001b[32mThreadPoolExecutor.java\u001b[39m:\u001b[32m628\u001b[39m)",
      "  java.lang.Thread.run(\u001b[32mThread.java\u001b[39m:\u001b[32m829\u001b[39m)",
      "\u001b[31mjava.util.concurrent.CompletionException: java.lang.RuntimeException: java.lang.ClassNotFoundException: org.apache.flink.api.common.ExecutionConfig\u001b[39m",
      "  java.util.concurrent.CompletableFuture.encodeThrowable(\u001b[32mCompletableFuture.java\u001b[39m:\u001b[32m314\u001b[39m)",
      "  java.util.concurrent.CompletableFuture.completeThrowable(\u001b[32mCompletableFuture.java\u001b[39m:\u001b[32m319\u001b[39m)",
      "  java.util.concurrent.CompletableFuture$AsyncSupply.run(\u001b[32mCompletableFuture.java\u001b[39m:\u001b[32m1702\u001b[39m)",
      "  java.util.concurrent.ThreadPoolExecutor.runWorker(\u001b[32mThreadPoolExecutor.java\u001b[39m:\u001b[32m1128\u001b[39m)",
      "  java.util.concurrent.ThreadPoolExecutor$Worker.run(\u001b[32mThreadPoolExecutor.java\u001b[39m:\u001b[32m628\u001b[39m)",
      "  java.lang.Thread.run(\u001b[32mThread.java\u001b[39m:\u001b[32m829\u001b[39m)",
      "\u001b[31mjava.lang.RuntimeException: java.lang.ClassNotFoundException: org.apache.flink.api.common.ExecutionConfig\u001b[39m",
      "  org.apache.flink.util.ExceptionUtils.rethrow(\u001b[32mExceptionUtils.java\u001b[39m:\u001b[32m321\u001b[39m)",
      "  org.apache.flink.util.function.FunctionUtils.lambda$uncheckedSupplier$4(\u001b[32mFunctionUtils.java\u001b[39m:\u001b[32m114\u001b[39m)",
      "  java.util.concurrent.CompletableFuture$AsyncSupply.run(\u001b[32mCompletableFuture.java\u001b[39m:\u001b[32m1700\u001b[39m)",
      "  java.util.concurrent.ThreadPoolExecutor.runWorker(\u001b[32mThreadPoolExecutor.java\u001b[39m:\u001b[32m1128\u001b[39m)",
      "  java.util.concurrent.ThreadPoolExecutor$Worker.run(\u001b[32mThreadPoolExecutor.java\u001b[39m:\u001b[32m628\u001b[39m)",
      "  java.lang.Thread.run(\u001b[32mThread.java\u001b[39m:\u001b[32m829\u001b[39m)",
      "\u001b[31mjava.lang.ClassNotFoundException: org.apache.flink.api.common.ExecutionConfig\u001b[39m",
      "  jdk.internal.loader.BuiltinClassLoader.loadClass(\u001b[32mBuiltinClassLoader.java\u001b[39m:\u001b[32m581\u001b[39m)",
      "  jdk.internal.loader.ClassLoaders$AppClassLoader.loadClass(\u001b[32mClassLoaders.java\u001b[39m:\u001b[32m178\u001b[39m)",
      "  java.lang.ClassLoader.loadClass(\u001b[32mClassLoader.java\u001b[39m:\u001b[32m527\u001b[39m)",
      "  java.lang.Class.forName0(\u001b[32mNative Method\u001b[39m)",
      "  java.lang.Class.forName(\u001b[32mClass.java\u001b[39m:\u001b[32m398\u001b[39m)",
      "  org.apache.flink.util.InstantiationUtil$ClassLoaderObjectInputStream.resolveClass(\u001b[32mInstantiationUtil.java\u001b[39m:\u001b[32m78\u001b[39m)",
      "  java.io.ObjectInputStream.readNonProxyDesc(\u001b[32mObjectInputStream.java\u001b[39m:\u001b[32m2003\u001b[39m)",
      "  java.io.ObjectInputStream.readClassDesc(\u001b[32mObjectInputStream.java\u001b[39m:\u001b[32m1870\u001b[39m)",
      "  java.io.ObjectInputStream.readOrdinaryObject(\u001b[32mObjectInputStream.java\u001b[39m:\u001b[32m2201\u001b[39m)",
      "  java.io.ObjectInputStream.readObject0(\u001b[32mObjectInputStream.java\u001b[39m:\u001b[32m1687\u001b[39m)",
      "  java.io.ObjectInputStream.readObject(\u001b[32mObjectInputStream.java\u001b[39m:\u001b[32m489\u001b[39m)",
      "  java.io.ObjectInputStream.readObject(\u001b[32mObjectInputStream.java\u001b[39m:\u001b[32m447\u001b[39m)",
      "  org.apache.flink.util.InstantiationUtil.deserializeObject(\u001b[32mInstantiationUtil.java\u001b[39m:\u001b[32m539\u001b[39m)",
      "  org.apache.flink.util.InstantiationUtil.deserializeObject(\u001b[32mInstantiationUtil.java\u001b[39m:\u001b[32m527\u001b[39m)",
      "  org.apache.flink.util.SerializedValue.deserializeValue(\u001b[32mSerializedValue.java\u001b[39m:\u001b[32m67\u001b[39m)",
      "  org.apache.flink.runtime.scheduler.DefaultSchedulerFactory.createInstance(\u001b[32mDefaultSchedulerFactory.java\u001b[39m:\u001b[32m101\u001b[39m)",
      "  org.apache.flink.runtime.jobmaster.DefaultSlotPoolServiceSchedulerFactory.createScheduler(\u001b[32mDefaultSlotPoolServiceSchedulerFactory.java\u001b[39m:\u001b[32m122\u001b[39m)",
      "  org.apache.flink.runtime.jobmaster.JobMaster.createScheduler(\u001b[32mJobMaster.java\u001b[39m:\u001b[32m379\u001b[39m)",
      "  org.apache.flink.runtime.jobmaster.JobMaster.<init>(\u001b[32mJobMaster.java\u001b[39m:\u001b[32m356\u001b[39m)",
      "  org.apache.flink.runtime.jobmaster.factories.DefaultJobMasterServiceFactory.internalCreateJobMasterService(\u001b[32mDefaultJobMasterServiceFactory.java\u001b[39m:\u001b[32m128\u001b[39m)",
      "  org.apache.flink.runtime.jobmaster.factories.DefaultJobMasterServiceFactory.lambda$createJobMasterService$0(\u001b[32mDefaultJobMasterServiceFactory.java\u001b[39m:\u001b[32m100\u001b[39m)",
      "  org.apache.flink.util.function.FunctionUtils.lambda$uncheckedSupplier$4(\u001b[32mFunctionUtils.java\u001b[39m:\u001b[32m112\u001b[39m)",
      "  java.util.concurrent.CompletableFuture$AsyncSupply.run(\u001b[32mCompletableFuture.java\u001b[39m:\u001b[32m1700\u001b[39m)",
      "  java.util.concurrent.ThreadPoolExecutor.runWorker(\u001b[32mThreadPoolExecutor.java\u001b[39m:\u001b[32m1128\u001b[39m)",
      "  java.util.concurrent.ThreadPoolExecutor$Worker.run(\u001b[32mThreadPoolExecutor.java\u001b[39m:\u001b[32m628\u001b[39m)",
      "  java.lang.Thread.run(\u001b[32mThread.java\u001b[39m:\u001b[32m829\u001b[39m)"
     ]
    }
   ],
   "source": [
    "val words = text\n",
    "    .flatMap(_.toLowerCase.split(\"\\\\W+\"))\n",
    "    .map((_, 1))\n",
    "    .keyBy(_._1)\n",
    "    .sum(1)\n",
    "    .executeAndCollect(\"wordCount\").toList"
   ]
  },
  {
   "cell_type": "code",
   "execution_count": 13,
   "metadata": {},
   "outputs": [
    {
     "data": {
      "text/html": [
       "\n",
       "      <script type=\"text/javascript\">\n",
       "        require.config({\n",
       "  paths: {\n",
       "    d3: 'https://cdnjs.cloudflare.com/ajax/libs/d3/3.5.17/d3.min',\n",
       "    plotly: 'https://cdn.plot.ly/plotly-1.52.2.min',\n",
       "    jquery: 'https://code.jquery.com/jquery-3.3.1.min'\n",
       "  },\n",
       "\n",
       "  shim: {\n",
       "    plotly: {\n",
       "      deps: ['d3', 'jquery'],\n",
       "      exports: 'plotly'\n",
       "    }\n",
       "  }\n",
       "});\n",
       "        \n",
       "\n",
       "        require(['plotly'], function(Plotly) {\n",
       "          window.Plotly = Plotly;\n",
       "        });\n",
       "      </script>\n",
       "    "
      ]
     },
     "metadata": {},
     "output_type": "display_data"
    },
    {
     "data": {
      "application/vnd.plotly.v1+json": {
       "config": {},
       "data": [
        {
         "type": "bar",
         "x": [
          "whether",
          "take",
          "sea",
          "troubles",
          "is",
          "mind",
          "be",
          "and",
          "outrageous",
          "the",
          "the",
          "the",
          "slings",
          "or",
          "be",
          "that",
          "question",
          "arrows",
          "or",
          "a",
          "to",
          "to",
          "tis",
          "in",
          "to",
          "suffer",
          "of",
          "to",
          "arms",
          "of",
          "against",
          "not",
          "nobler",
          "fortune"
         ],
         "y": [
          1,
          1,
          1,
          1,
          1,
          1,
          1,
          1,
          1,
          1,
          2,
          3,
          1,
          1,
          2,
          1,
          1,
          1,
          2,
          1,
          1,
          2,
          1,
          1,
          3,
          1,
          1,
          4,
          1,
          2,
          1,
          1,
          1,
          1
         ]
        }
       ],
       "layout": {}
      },
      "text/html": [
       "<div class=\"chart\" id=\"plot-bf228d5c-de91-4b68-a885-98733b917ad2\"></div>\n",
       "<script>require(['plotly'], function(Plotly) {\n",
       "  (function () {\n",
       "  var data0 = {\"x\":[\"whether\",\"take\",\"sea\",\"troubles\",\"is\",\"mind\",\"be\",\"and\",\"outrageous\",\"the\",\"the\",\"the\",\"slings\",\"or\",\"be\",\"that\",\"question\",\"arrows\",\"or\",\"a\",\"to\",\"to\",\"tis\",\"in\",\"to\",\"suffer\",\"of\",\"to\",\"arms\",\"of\",\"against\",\"not\",\"nobler\",\"fortune\"],\"y\":[1.0,1.0,1.0,1.0,1.0,1.0,1.0,1.0,1.0,1.0,2.0,3.0,1.0,1.0,2.0,1.0,1.0,1.0,2.0,1.0,1.0,2.0,1.0,1.0,3.0,1.0,1.0,4.0,1.0,2.0,1.0,1.0,1.0,1.0],\"type\":\"bar\"};\n",
       "\n",
       "  var data = [data0];\n",
       "  var layout = {};\n",
       " var config = {};\n",
       "\n",
       "  Plotly.plot('plot-bf228d5c-de91-4b68-a885-98733b917ad2', data, layout, config);\n",
       "})();\n",
       "});\n",
       "      </script>\n",
       "           "
      ]
     },
     "metadata": {},
     "output_type": "display_data"
    },
    {
     "data": {
      "text/plain": [
       "\u001b[32mimport \u001b[39m\u001b[36m$ivy.$\u001b[39m\n",
       "\u001b[32mimport \u001b[39m\u001b[36mplotly._\u001b[39m\n",
       "\u001b[32mimport \u001b[39m\u001b[36mplotly.element._\u001b[39m\n",
       "\u001b[32mimport \u001b[39m\u001b[36mplotly.layout._\u001b[39m\n",
       "\u001b[32mimport \u001b[39m\u001b[36mplotly.Almond._\u001b[39m\n",
       "\u001b[36mx\u001b[39m: \u001b[32mList\u001b[39m[\u001b[32mString\u001b[39m] = \u001b[33mList\u001b[39m(\n",
       "  \u001b[32m\"whether\"\u001b[39m,\n",
       "  \u001b[32m\"take\"\u001b[39m,\n",
       "  \u001b[32m\"sea\"\u001b[39m,\n",
       "  \u001b[32m\"troubles\"\u001b[39m,\n",
       "  \u001b[32m\"is\"\u001b[39m,\n",
       "  \u001b[32m\"mind\"\u001b[39m,\n",
       "  \u001b[32m\"be\"\u001b[39m,\n",
       "  \u001b[32m\"and\"\u001b[39m,\n",
       "  \u001b[32m\"outrageous\"\u001b[39m,\n",
       "  \u001b[32m\"the\"\u001b[39m,\n",
       "  \u001b[32m\"the\"\u001b[39m,\n",
       "  \u001b[32m\"the\"\u001b[39m,\n",
       "  \u001b[32m\"slings\"\u001b[39m,\n",
       "  \u001b[32m\"or\"\u001b[39m,\n",
       "  \u001b[32m\"be\"\u001b[39m,\n",
       "  \u001b[32m\"that\"\u001b[39m,\n",
       "  \u001b[32m\"question\"\u001b[39m,\n",
       "  \u001b[32m\"arrows\"\u001b[39m,\n",
       "  \u001b[32m\"or\"\u001b[39m,\n",
       "  \u001b[32m\"a\"\u001b[39m,\n",
       "  \u001b[32m\"to\"\u001b[39m,\n",
       "  \u001b[32m\"to\"\u001b[39m,\n",
       "  \u001b[32m\"tis\"\u001b[39m,\n",
       "  \u001b[32m\"in\"\u001b[39m,\n",
       "  \u001b[32m\"to\"\u001b[39m,\n",
       "  \u001b[32m\"suffer\"\u001b[39m,\n",
       "  \u001b[32m\"of\"\u001b[39m,\n",
       "  \u001b[32m\"to\"\u001b[39m,\n",
       "  \u001b[32m\"arms\"\u001b[39m,\n",
       "  \u001b[32m\"of\"\u001b[39m,\n",
       "  \u001b[32m\"against\"\u001b[39m,\n",
       "  \u001b[32m\"not\"\u001b[39m,\n",
       "  \u001b[32m\"nobler\"\u001b[39m,\n",
       "  \u001b[32m\"fortune\"\u001b[39m\n",
       ")\n",
       "\u001b[36my\u001b[39m: \u001b[32mList\u001b[39m[\u001b[32mInt\u001b[39m] = \u001b[33mList\u001b[39m(\n",
       "  \u001b[32m1\u001b[39m,\n",
       "  \u001b[32m1\u001b[39m,\n",
       "  \u001b[32m1\u001b[39m,\n",
       "  \u001b[32m1\u001b[39m,\n",
       "  \u001b[32m1\u001b[39m,\n",
       "  \u001b[32m1\u001b[39m,\n",
       "  \u001b[32m1\u001b[39m,\n",
       "  \u001b[32m1\u001b[39m,\n",
       "  \u001b[32m1\u001b[39m,\n",
       "  \u001b[32m1\u001b[39m,\n",
       "  \u001b[32m2\u001b[39m,\n",
       "  \u001b[32m3\u001b[39m,\n",
       "  \u001b[32m1\u001b[39m,\n",
       "  \u001b[32m1\u001b[39m,\n",
       "  \u001b[32m2\u001b[39m,\n",
       "  \u001b[32m1\u001b[39m,\n",
       "  \u001b[32m1\u001b[39m,\n",
       "  \u001b[32m1\u001b[39m,\n",
       "  \u001b[32m2\u001b[39m,\n",
       "  \u001b[32m1\u001b[39m,\n",
       "  \u001b[32m1\u001b[39m,\n",
       "  \u001b[32m2\u001b[39m,\n",
       "  \u001b[32m1\u001b[39m,\n",
       "  \u001b[32m1\u001b[39m,\n",
       "  \u001b[32m3\u001b[39m,\n",
       "  \u001b[32m1\u001b[39m,\n",
       "  \u001b[32m1\u001b[39m,\n",
       "  \u001b[32m4\u001b[39m,\n",
       "  \u001b[32m1\u001b[39m,\n",
       "  \u001b[32m2\u001b[39m,\n",
       "  \u001b[32m1\u001b[39m,\n",
       "  \u001b[32m1\u001b[39m,\n",
       "  \u001b[32m1\u001b[39m,\n",
       "  \u001b[32m1\u001b[39m\n",
       ")\n",
       "\u001b[36mres13_6\u001b[39m: \u001b[32mString\u001b[39m = \u001b[32m\"plot-bf228d5c-de91-4b68-a885-98733b917ad2\"\u001b[39m"
      ]
     },
     "execution_count": 13,
     "metadata": {},
     "output_type": "execute_result"
    }
   ],
   "source": [
    "import $ivy.`org.plotly-scala::plotly-almond:0.8.1`\n",
    "\n",
    "import plotly._\n",
    "import plotly.element._\n",
    "import plotly.layout._\n",
    "import plotly.Almond._\n",
    "\n",
    "val (x, y) = words.unzip\n",
    "\n",
    "Bar(x, y).plot()"
   ]
  }
 ],
 "metadata": {
  "kernelspec": {
   "display_name": "Scala",
   "language": "scala",
   "name": "scala"
  },
  "language_info": {
   "codemirror_mode": "text/x-scala",
   "file_extension": ".sc",
   "mimetype": "text/x-scala",
   "name": "scala",
   "nbconvert_exporter": "script",
   "version": "2.13.11"
  },
  "orig_nbformat": 4
 },
 "nbformat": 4,
 "nbformat_minor": 2
}
