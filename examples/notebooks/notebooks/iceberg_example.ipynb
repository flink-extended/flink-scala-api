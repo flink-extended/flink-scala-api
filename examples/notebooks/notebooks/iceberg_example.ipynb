{
 "cells": [
  {
   "cell_type": "code",
   "execution_count": 1,
   "metadata": {},
   "outputs": [
    {
     "data": {
      "text/plain": [
       "\u001b[32mimport \u001b[39m\u001b[36m$ivy.$\u001b[39m\n",
       "\u001b[32mimport \u001b[39m\u001b[36m$ivy.$\u001b[39m\n",
       "\u001b[32mimport \u001b[39m\u001b[36m$ivy.$\u001b[39m\n",
       "\u001b[32mimport \u001b[39m\u001b[36m$ivy.$\u001b[39m\n",
       "\u001b[32mimport \u001b[39m\u001b[36m$ivy.$\u001b[39m\n",
       "\u001b[32mimport \u001b[39m\u001b[36m$ivy.$\u001b[39m\n",
       "\u001b[32mimport \u001b[39m\u001b[36m$ivy.$\u001b[39m\n",
       "\u001b[32mimport \u001b[39m\u001b[36m$ivy.$\u001b[39m\n",
       "\u001b[32mimport \u001b[39m\u001b[36m$ivy.$\u001b[39m\n",
       "\u001b[32mimport \u001b[39m\u001b[36m$ivy.$\u001b[39m\n",
       "\u001b[32mimport \u001b[39m\u001b[36m$ivy.$\u001b[39m"
      ]
     },
     "execution_count": 1,
     "metadata": {},
     "output_type": "execute_result"
    }
   ],
   "source": [
    "import $ivy.`org.flinkextended::flink-scala-api:1.17.1_1.1.0`\n",
    "\n",
    "import $ivy.`org.apache.flink:flink-clients:1.17.1`\n",
    "import $ivy.`org.apache.flink:flink-table-api-java:1.17.1`\n",
    "import $ivy.`org.apache.flink:flink-table-api-java-bridge:1.17.1`\n",
    "import $ivy.`org.apache.flink:flink-table-runtime:1.17.1`\n",
    "import $ivy.`org.apache.flink:flink-table-planner-loader:1.17.1`\n",
    "import $ivy.`org.apache.flink:flink-runtime-web:1.17.1`\n",
    "\n",
    "import $ivy.`org.apache.iceberg:iceberg-flink-runtime-1.17:1.4.2`\n",
    "\n",
    "import $ivy.`org.apache.hadoop:hadoop-common:2.7.3`\n",
    "import $ivy.`org.apache.hadoop:hadoop-hdfs:2.7.3`\n",
    "import $ivy.`org.apache.hadoop:hadoop-mapreduce-client-core:2.7.3`"
   ]
  },
  {
   "cell_type": "code",
   "execution_count": 8,
   "metadata": {},
   "outputs": [
    {
     "name": "stderr",
     "output_type": "stream",
     "text": [
      "1 deprecation\n",
      "1 deprecation (since 2.13.0)\n",
      "2 deprecations in total; re-run with -deprecation for details\n"
     ]
    },
    {
     "data": {
      "text/plain": [
       "\u001b[32mimport \u001b[39m\u001b[36morg.apache.iceberg.flink.actions.Actions\u001b[39m\n",
       "\u001b[32mimport \u001b[39m\u001b[36morg.apache.iceberg.flink.TableLoader\u001b[39m\n",
       "\u001b[32mimport \u001b[39m\u001b[36morg.apache.flink.configuration.{Configuration, ConfigConstants}\u001b[39m\n",
       "\u001b[32mimport \u001b[39m\u001b[36morg.apache.flink.configuration.RestOptions.BIND_PORT\u001b[39m\n",
       "\u001b[32mimport \u001b[39m\u001b[36morg.apache.flinkx.api._\u001b[39m\n",
       "\u001b[32mimport \u001b[39m\u001b[36mscala.collection.JavaConverters._\u001b[39m\n",
       "\u001b[36mconfig\u001b[39m: \u001b[32mConfiguration\u001b[39m = {execution.checkpointing.interval=10 s, rest.port=8081, rest.bind-port=8081, local.start-webserver=true}\n",
       "\u001b[36menv\u001b[39m: \u001b[32mStreamExecutionEnvironment\u001b[39m = org.apache.flinkx.api.StreamExecutionEnvironment@112e1cb4\n",
       "\u001b[36mtableLoader\u001b[39m: \u001b[32mTableLoader\u001b[39m = HadoopTableLoader{location=file:///tmp/iceberg/default/sales_country}\n",
       "\u001b[36mtable\u001b[39m: \u001b[32morg\u001b[39m.\u001b[32mapache\u001b[39m.\u001b[32miceberg\u001b[39m.\u001b[32mTable\u001b[39m = file:///tmp/iceberg/default/sales_country"
      ]
     },
     "execution_count": 8,
     "metadata": {},
     "output_type": "execute_result"
    }
   ],
   "source": [
    "import org.apache.iceberg.flink.actions.Actions\n",
    "import org.apache.iceberg.flink.TableLoader\n",
    "import org.apache.flink.configuration.{Configuration, ConfigConstants}\n",
    "import org.apache.flink.configuration.RestOptions.BIND_PORT\n",
    "import org.apache.flinkx.api._\n",
    "import scala.collection.JavaConverters._\n",
    "\n",
    "val config = Configuration.fromMap(\n",
    "  Map(\n",
    "    ConfigConstants.LOCAL_START_WEBSERVER -> \"true\",\n",
    "    BIND_PORT.key -> \"8081\",\n",
    "    \"execution.checkpointing.interval\" -> \"10 s\"\n",
    "  ).asJava\n",
    ")\n",
    "\n",
    "val env = StreamExecutionEnvironment.createLocalEnvironmentWithWebUI(config)\n",
    "val tableLoader = TableLoader.fromHadoopTable(\"file:///tmp/iceberg/default/sales_country\")\n",
    "tableLoader.open()\n",
    "val table = tableLoader.loadTable()"
   ]
  },
  {
   "cell_type": "code",
   "execution_count": 9,
   "metadata": {},
   "outputs": [
    {
     "data": {
      "text/plain": [
       "\u001b[36mres\u001b[39m: \u001b[32morg\u001b[39m.\u001b[32mapache\u001b[39m.\u001b[32miceberg\u001b[39m.\u001b[32mactions\u001b[39m.\u001b[32mRewriteDataFilesActionResult\u001b[39m = org.apache.iceberg.actions.RewriteDataFilesActionResult@3940adcd"
      ]
     },
     "execution_count": 9,
     "metadata": {},
     "output_type": "execute_result"
    }
   ],
   "source": [
    "val res = Actions.forTable(env.getJavaEnv, table)\n",
    "\t.rewriteDataFiles()\n",
    "\t.maxParallelism(5)\n",
    "\t.targetSizeInBytes(10*1024*1024)\n",
    "\t.execute()"
   ]
  },
  {
   "cell_type": "code",
   "execution_count": 10,
   "metadata": {},
   "outputs": [
    {
     "name": "stderr",
     "output_type": "stream",
     "text": [
      "1 deprecation (since 2.13.0); re-run with -deprecation for details\n"
     ]
    },
    {
     "data": {
      "text/plain": [
       "\u001b[36mres10\u001b[39m: \u001b[32mcollection\u001b[39m.\u001b[32mmutable\u001b[39m.\u001b[32mBuffer\u001b[39m[\u001b[32morg\u001b[39m.\u001b[32mapache\u001b[39m.\u001b[32miceberg\u001b[39m.\u001b[32mDataFile\u001b[39m] = \u001b[33mBuffer\u001b[39m(\n",
       "  GenericDataFile{content=data, file_path=file:/tmp/iceberg/default/sales_country/data/00000-0-10f4c905-d73e-421c-a8e5-e8e76f85b1fe-00006.parquet, file_format=PARQUET, spec_id=0, partition=PartitionData{}, record_count=9, file_size_in_bytes=821, column_sizes=null, value_counts=null, null_value_counts=null, nan_value_counts=null, lower_bounds=null, upper_bounds=null, key_metadata=null, split_offsets=[4], equality_ids=null, sort_order_id=null, data_sequence_number=3, file_sequence_number=3},\n",
       "  GenericDataFile{content=data, file_path=file:/tmp/iceberg/default/sales_country/data/00000-0-10f4c905-d73e-421c-a8e5-e8e76f85b1fe-00012.parquet, file_format=PARQUET, spec_id=0, partition=PartitionData{}, record_count=8, file_size_in_bytes=819, column_sizes=null, value_counts=null, null_value_counts=null, nan_value_counts=null, lower_bounds=null, upper_bounds=null, key_metadata=null, split_offsets=[4], equality_ids=null, sort_order_id=null, data_sequence_number=5, file_sequence_number=5},\n",
       "  GenericDataFile{content=data, file_path=file:/tmp/iceberg/default/sales_country/data/00000-0-10f4c905-d73e-421c-a8e5-e8e76f85b1fe-00004.parquet, file_format=PARQUET, spec_id=0, partition=PartitionData{}, record_count=8, file_size_in_bytes=821, column_sizes=null, value_counts=null, null_value_counts=null, nan_value_counts=null, lower_bounds=null, upper_bounds=null, key_metadata=null, split_offsets=[4], equality_ids=null, sort_order_id=null, data_sequence_number=2, file_sequence_number=2},\n",
       "  GenericDataFile{content=data, file_path=file:/tmp/iceberg/default/sales_country/data/00000-0-10f4c905-d73e-421c-a8e5-e8e76f85b1fe-00015.parquet, file_format=PARQUET, spec_id=0, partition=PartitionData{}, record_count=6, file_size_in_bytes=801, column_sizes=null, value_counts=null, null_value_counts=null, nan_value_counts=null, lower_bounds=null, upper_bounds=null, key_metadata=null, split_offsets=[4], equality_ids=null, sort_order_id=null, data_sequence_number=6, file_sequence_number=6},\n",
       "  GenericDataFile{content=data, file_path=file:/tmp/iceberg/default/sales_country/data/00000-0-10f4c905-d73e-421c-a8e5-e8e76f85b1fe-00018.parquet, file_format=PARQUET, spec_id=0, partition=PartitionData{}, record_count=10, file_size_in_bytes=832, column_sizes=null, value_counts=null, null_value_counts=null, nan_value_counts=null, lower_bounds=null, upper_bounds=null, key_metadata=null, split_offsets=[4], equality_ids=null, sort_order_id=null, data_sequence_number=7, file_sequence_number=7},\n",
       "  GenericDataFile{content=data, file_path=file:/tmp/iceberg/default/sales_country/data/00000-0-10f4c905-d73e-421c-a8e5-e8e76f85b1fe-00024.parquet, file_format=PARQUET, spec_id=0, partition=PartitionData{}, record_count=9, file_size_in_bytes..."
      ]
     },
     "execution_count": 10,
     "metadata": {},
     "output_type": "execute_result"
    }
   ],
   "source": [
    "res.deletedDataFiles.asScala"
   ]
  },
  {
   "cell_type": "code",
   "execution_count": 11,
   "metadata": {},
   "outputs": [
    {
     "name": "stderr",
     "output_type": "stream",
     "text": [
      "1 deprecation (since 2.13.0); re-run with -deprecation for details\n"
     ]
    },
    {
     "data": {
      "text/plain": [
       "\u001b[36mres11\u001b[39m: \u001b[32mcollection\u001b[39m.\u001b[32mmutable\u001b[39m.\u001b[32mBuffer\u001b[39m[\u001b[32morg\u001b[39m.\u001b[32mapache\u001b[39m.\u001b[32miceberg\u001b[39m.\u001b[32mDataFile\u001b[39m] = \u001b[33mBuffer\u001b[39m(\n",
       "  GenericDataFile{content=data, file_path=file:/tmp/iceberg/default/sales_country/data/00001-0-a569c932-0da1-4a41-b500-5431640cad2d-00006.parquet, file_format=PARQUET, spec_id=0, partition=PartitionData{}, record_count=1, file_size_in_bytes=679, column_sizes={1=41, 2=42}, value_counts={1=1, 2=1}, null_value_counts={1=0, 2=0}, nan_value_counts={}, lower_bounds=org.apache.iceberg.SerializableByteBufferMap@838e5d6, upper_bounds=org.apache.iceberg.SerializableByteBufferMap@838e5d6, key_metadata=null, split_offsets=[4], equality_ids=null, sort_order_id=0, data_sequence_number=null, file_sequence_number=null},\n",
       "  GenericDataFile{content=data, file_path=file:/tmp/iceberg/default/sales_country/data/00000-0-bd047a9a-c18e-4159-8e67-485ff4181c64-00007.parquet, file_format=PARQUET, spec_id=0, partition=PartitionData{}, record_count=2, file_size_in_bytes=725, column_sizes={1=64, 2=46}, value_counts={1=2, 2=2}, null_value_counts={1=0, 2=0}, nan_value_counts={}, lower_bounds=org.apache.iceberg.SerializableByteBufferMap@61aaed9d, upper_bounds=org.apache.iceberg.SerializableByteBufferMap@690da3fc, key_metadata=null, split_offsets=[4], equality_ids=null, sort_order_id=0, data_sequence_number=null, file_sequence_number=null},\n",
       "  GenericDataFile{content=data, file_path=file:/tmp/iceberg/default/sales_country/data/00003-0-56e1788e-7e0c-46ea-80a2-0c2568f29576-00005.parquet, file_format=PARQUET, spec_id=0, partition=PartitionData{}, record_count=6, file_size_in_bytes=773, column_sizes={1=109, 2=62}, value_counts={1=6, 2=6}, null_value_counts={1=0, 2=0}, nan_value_counts={}, lower_bounds=org.apache.iceberg.SerializableByteBufferMap@cb4737bc, upper_bounds=org.apache.iceberg.SerializableByteBufferMap@49267189, key_metadata=null, split_offsets=[4], equality_ids=null, sort_order_id=0, data_sequence_number=null, file_sequence_number=null}\n",
       ")"
      ]
     },
     "execution_count": 11,
     "metadata": {},
     "output_type": "execute_result"
    }
   ],
   "source": [
    "res.addedDataFiles.asScala"
   ]
  },
  {
   "cell_type": "code",
   "execution_count": null,
   "metadata": {},
   "outputs": [],
   "source": [
    "env.getJavaEnv.close"
   ]
  },
  {
   "cell_type": "code",
   "execution_count": 39,
   "metadata": {},
   "outputs": [
    {
     "name": "stdout",
     "output_type": "stream",
     "text": [
      "Tue Nov 28 13:05:49 CET 2023\n"
     ]
    },
    {
     "data": {
      "text/plain": [
       "\u001b[32mimport \u001b[39m\u001b[36mscala.concurrent.duration._\u001b[39m\n",
       "\u001b[36mtsToExpire\u001b[39m: \u001b[32mLong\u001b[39m = \u001b[32m1701173149985L\u001b[39m"
      ]
     },
     "execution_count": 39,
     "metadata": {},
     "output_type": "execute_result"
    }
   ],
   "source": [
    "import scala.concurrent.duration._\n",
    "\n",
    "val tsToExpire = System.currentTimeMillis() - 10.minutes.toMillis\n",
    "println(new java.util.Date(tsToExpire))\n",
    "\n",
    "table.expireSnapshots()\n",
    "     .expireOlderThan(tsToExpire)\n",
    "     .commit()"
   ]
  }
 ],
 "metadata": {
  "kernelspec": {
   "display_name": "Scala (2.13)",
   "language": "scala",
   "name": "scala213"
  },
  "language_info": {
   "codemirror_mode": "text/x-scala",
   "file_extension": ".sc",
   "mimetype": "text/x-scala",
   "name": "scala",
   "nbconvert_exporter": "script",
   "version": "2.13.11"
  }
 },
 "nbformat": 4,
 "nbformat_minor": 2
}
