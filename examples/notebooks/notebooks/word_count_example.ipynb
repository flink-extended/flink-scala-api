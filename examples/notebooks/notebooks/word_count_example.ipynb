{
 "cells": [
  {
   "cell_type": "code",
   "execution_count": null,
   "metadata": {},
   "outputs": [],
   "source": [
    "import $ivy.`org.flinkextended::flink-scala-api:1.17.1_1.1.0`\n",
    "import $ivy.`org.apache.flink:flink-clients:1.17.1`\n",
    "\n",
    "import org.apache.flinkx.api._\n",
    "import org.apache.flinkx.api.serializers._"
   ]
  },
  {
   "cell_type": "code",
   "execution_count": 9,
   "metadata": {},
   "outputs": [
    {
     "data": {
      "text/plain": [
       "\u001b[36menv\u001b[39m: \u001b[32mStreamExecutionEnvironment\u001b[39m = org.apache.flinkx.api.StreamExecutionEnvironment@32eaea18"
      ]
     },
     "execution_count": 9,
     "metadata": {},
     "output_type": "execute_result"
    }
   ],
   "source": [
    "val env = StreamExecutionEnvironment.getExecutionEnvironment"
   ]
  },
  {
   "cell_type": "code",
   "execution_count": 10,
   "metadata": {},
   "outputs": [
    {
     "data": {
      "text/plain": [
       "\u001b[36mtext\u001b[39m: \u001b[32mDataStream\u001b[39m[\u001b[32mString\u001b[39m] = org.apache.flinkx.api.DataStream@76c394db"
      ]
     },
     "execution_count": 10,
     "metadata": {},
     "output_type": "execute_result"
    }
   ],
   "source": [
    "val text = env.fromElements(\n",
    "    \"To be, or not to be,--that is the question:--\",\n",
    "    \"Whether 'tis nobler in the mind to suffer\",\n",
    "    \"The slings and arrows of outrageous fortune\",\n",
    "    \"Or to take arms against a sea of troubles,\"\n",
    "  )"
   ]
  },
  {
   "cell_type": "code",
   "execution_count": 12,
   "metadata": {},
   "outputs": [
    {
     "data": {
      "text/plain": [
       "\u001b[36mwords\u001b[39m: \u001b[32mList\u001b[39m[(\u001b[32mString\u001b[39m, \u001b[32mInt\u001b[39m)] = \u001b[33mList\u001b[39m(\n",
       "  (\u001b[32m\"whether\"\u001b[39m, \u001b[32m1\u001b[39m),\n",
       "  (\u001b[32m\"take\"\u001b[39m, \u001b[32m1\u001b[39m),\n",
       "  (\u001b[32m\"sea\"\u001b[39m, \u001b[32m1\u001b[39m),\n",
       "  (\u001b[32m\"troubles\"\u001b[39m, \u001b[32m1\u001b[39m),\n",
       "  (\u001b[32m\"is\"\u001b[39m, \u001b[32m1\u001b[39m),\n",
       "  (\u001b[32m\"mind\"\u001b[39m, \u001b[32m1\u001b[39m),\n",
       "  (\u001b[32m\"be\"\u001b[39m, \u001b[32m1\u001b[39m),\n",
       "  (\u001b[32m\"and\"\u001b[39m, \u001b[32m1\u001b[39m),\n",
       "  (\u001b[32m\"outrageous\"\u001b[39m, \u001b[32m1\u001b[39m),\n",
       "  (\u001b[32m\"the\"\u001b[39m, \u001b[32m1\u001b[39m),\n",
       "  (\u001b[32m\"the\"\u001b[39m, \u001b[32m2\u001b[39m),\n",
       "  (\u001b[32m\"the\"\u001b[39m, \u001b[32m3\u001b[39m),\n",
       "  (\u001b[32m\"slings\"\u001b[39m, \u001b[32m1\u001b[39m),\n",
       "  (\u001b[32m\"or\"\u001b[39m, \u001b[32m1\u001b[39m),\n",
       "  (\u001b[32m\"be\"\u001b[39m, \u001b[32m2\u001b[39m),\n",
       "  (\u001b[32m\"that\"\u001b[39m, \u001b[32m1\u001b[39m),\n",
       "  (\u001b[32m\"question\"\u001b[39m, \u001b[32m1\u001b[39m),\n",
       "  (\u001b[32m\"arrows\"\u001b[39m, \u001b[32m1\u001b[39m),\n",
       "  (\u001b[32m\"or\"\u001b[39m, \u001b[32m2\u001b[39m),\n",
       "  (\u001b[32m\"a\"\u001b[39m, \u001b[32m1\u001b[39m),\n",
       "  (\u001b[32m\"to\"\u001b[39m, \u001b[32m1\u001b[39m),\n",
       "  (\u001b[32m\"to\"\u001b[39m, \u001b[32m2\u001b[39m),\n",
       "  (\u001b[32m\"tis\"\u001b[39m, \u001b[32m1\u001b[39m),\n",
       "  (\u001b[32m\"in\"\u001b[39m, \u001b[32m1\u001b[39m),\n",
       "  (\u001b[32m\"to\"\u001b[39m, \u001b[32m3\u001b[39m),\n",
       "  (\u001b[32m\"suffer\"\u001b[39m, \u001b[32m1\u001b[39m),\n",
       "  (\u001b[32m\"of\"\u001b[39m, \u001b[32m1\u001b[39m),\n",
       "  (\u001b[32m\"to\"\u001b[39m, \u001b[32m4\u001b[39m),\n",
       "  (\u001b[32m\"arms\"\u001b[39m, \u001b[32m1\u001b[39m),\n",
       "  (\u001b[32m\"of\"\u001b[39m, \u001b[32m2\u001b[39m),\n",
       "  (\u001b[32m\"against\"\u001b[39m, \u001b[32m1\u001b[39m),\n",
       "  (\u001b[32m\"not\"\u001b[39m, \u001b[32m1\u001b[39m),\n",
       "  (\u001b[32m\"nobler\"\u001b[39m, \u001b[32m1\u001b[39m),\n",
       "  (\u001b[32m\"fortune\"\u001b[39m, \u001b[32m1\u001b[39m)\n",
       ")"
      ]
     },
     "execution_count": 12,
     "metadata": {},
     "output_type": "execute_result"
    }
   ],
   "source": [
    "val words = text\n",
    "    .flatMap(_.toLowerCase.split(\"\\\\W+\"))\n",
    "    .map((_, 1))\n",
    "    .keyBy(_._1)\n",
    "    .sum(1)\n",
    "    .executeAndCollect(\"wordCount\").toList"
   ]
  },
  {
   "cell_type": "code",
   "execution_count": 13,
   "metadata": {},
   "outputs": [
    {
     "data": {
      "text/html": [
       "\n",
       "      <script type=\"text/javascript\">\n",
       "        require.config({\n",
       "  paths: {\n",
       "    d3: 'https://cdnjs.cloudflare.com/ajax/libs/d3/3.5.17/d3.min',\n",
       "    plotly: 'https://cdn.plot.ly/plotly-1.52.2.min',\n",
       "    jquery: 'https://code.jquery.com/jquery-3.3.1.min'\n",
       "  },\n",
       "\n",
       "  shim: {\n",
       "    plotly: {\n",
       "      deps: ['d3', 'jquery'],\n",
       "      exports: 'plotly'\n",
       "    }\n",
       "  }\n",
       "});\n",
       "        \n",
       "\n",
       "        require(['plotly'], function(Plotly) {\n",
       "          window.Plotly = Plotly;\n",
       "        });\n",
       "      </script>\n",
       "    "
      ]
     },
     "metadata": {},
     "output_type": "display_data"
    },
    {
     "data": {
      "application/vnd.plotly.v1+json": {
       "config": {},
       "data": [
        {
         "type": "bar",
         "x": [
          "whether",
          "take",
          "sea",
          "troubles",
          "is",
          "mind",
          "be",
          "and",
          "outrageous",
          "the",
          "the",
          "the",
          "slings",
          "or",
          "be",
          "that",
          "question",
          "arrows",
          "or",
          "a",
          "to",
          "to",
          "tis",
          "in",
          "to",
          "suffer",
          "of",
          "to",
          "arms",
          "of",
          "against",
          "not",
          "nobler",
          "fortune"
         ],
         "y": [
          1,
          1,
          1,
          1,
          1,
          1,
          1,
          1,
          1,
          1,
          2,
          3,
          1,
          1,
          2,
          1,
          1,
          1,
          2,
          1,
          1,
          2,
          1,
          1,
          3,
          1,
          1,
          4,
          1,
          2,
          1,
          1,
          1,
          1
         ]
        }
       ],
       "layout": {}
      },
      "text/html": [
       "<div class=\"chart\" id=\"plot-bf228d5c-de91-4b68-a885-98733b917ad2\"></div>\n",
       "<script>require(['plotly'], function(Plotly) {\n",
       "  (function () {\n",
       "  var data0 = {\"x\":[\"whether\",\"take\",\"sea\",\"troubles\",\"is\",\"mind\",\"be\",\"and\",\"outrageous\",\"the\",\"the\",\"the\",\"slings\",\"or\",\"be\",\"that\",\"question\",\"arrows\",\"or\",\"a\",\"to\",\"to\",\"tis\",\"in\",\"to\",\"suffer\",\"of\",\"to\",\"arms\",\"of\",\"against\",\"not\",\"nobler\",\"fortune\"],\"y\":[1.0,1.0,1.0,1.0,1.0,1.0,1.0,1.0,1.0,1.0,2.0,3.0,1.0,1.0,2.0,1.0,1.0,1.0,2.0,1.0,1.0,2.0,1.0,1.0,3.0,1.0,1.0,4.0,1.0,2.0,1.0,1.0,1.0,1.0],\"type\":\"bar\"};\n",
       "\n",
       "  var data = [data0];\n",
       "  var layout = {};\n",
       " var config = {};\n",
       "\n",
       "  Plotly.plot('plot-bf228d5c-de91-4b68-a885-98733b917ad2', data, layout, config);\n",
       "})();\n",
       "});\n",
       "      </script>\n",
       "           "
      ]
     },
     "metadata": {},
     "output_type": "display_data"
    },
    {
     "data": {
      "text/plain": [
       "\u001b[32mimport \u001b[39m\u001b[36m$ivy.$\u001b[39m\n",
       "\u001b[32mimport \u001b[39m\u001b[36mplotly._\u001b[39m\n",
       "\u001b[32mimport \u001b[39m\u001b[36mplotly.element._\u001b[39m\n",
       "\u001b[32mimport \u001b[39m\u001b[36mplotly.layout._\u001b[39m\n",
       "\u001b[32mimport \u001b[39m\u001b[36mplotly.Almond._\u001b[39m\n",
       "\u001b[36mx\u001b[39m: \u001b[32mList\u001b[39m[\u001b[32mString\u001b[39m] = \u001b[33mList\u001b[39m(\n",
       "  \u001b[32m\"whether\"\u001b[39m,\n",
       "  \u001b[32m\"take\"\u001b[39m,\n",
       "  \u001b[32m\"sea\"\u001b[39m,\n",
       "  \u001b[32m\"troubles\"\u001b[39m,\n",
       "  \u001b[32m\"is\"\u001b[39m,\n",
       "  \u001b[32m\"mind\"\u001b[39m,\n",
       "  \u001b[32m\"be\"\u001b[39m,\n",
       "  \u001b[32m\"and\"\u001b[39m,\n",
       "  \u001b[32m\"outrageous\"\u001b[39m,\n",
       "  \u001b[32m\"the\"\u001b[39m,\n",
       "  \u001b[32m\"the\"\u001b[39m,\n",
       "  \u001b[32m\"the\"\u001b[39m,\n",
       "  \u001b[32m\"slings\"\u001b[39m,\n",
       "  \u001b[32m\"or\"\u001b[39m,\n",
       "  \u001b[32m\"be\"\u001b[39m,\n",
       "  \u001b[32m\"that\"\u001b[39m,\n",
       "  \u001b[32m\"question\"\u001b[39m,\n",
       "  \u001b[32m\"arrows\"\u001b[39m,\n",
       "  \u001b[32m\"or\"\u001b[39m,\n",
       "  \u001b[32m\"a\"\u001b[39m,\n",
       "  \u001b[32m\"to\"\u001b[39m,\n",
       "  \u001b[32m\"to\"\u001b[39m,\n",
       "  \u001b[32m\"tis\"\u001b[39m,\n",
       "  \u001b[32m\"in\"\u001b[39m,\n",
       "  \u001b[32m\"to\"\u001b[39m,\n",
       "  \u001b[32m\"suffer\"\u001b[39m,\n",
       "  \u001b[32m\"of\"\u001b[39m,\n",
       "  \u001b[32m\"to\"\u001b[39m,\n",
       "  \u001b[32m\"arms\"\u001b[39m,\n",
       "  \u001b[32m\"of\"\u001b[39m,\n",
       "  \u001b[32m\"against\"\u001b[39m,\n",
       "  \u001b[32m\"not\"\u001b[39m,\n",
       "  \u001b[32m\"nobler\"\u001b[39m,\n",
       "  \u001b[32m\"fortune\"\u001b[39m\n",
       ")\n",
       "\u001b[36my\u001b[39m: \u001b[32mList\u001b[39m[\u001b[32mInt\u001b[39m] = \u001b[33mList\u001b[39m(\n",
       "  \u001b[32m1\u001b[39m,\n",
       "  \u001b[32m1\u001b[39m,\n",
       "  \u001b[32m1\u001b[39m,\n",
       "  \u001b[32m1\u001b[39m,\n",
       "  \u001b[32m1\u001b[39m,\n",
       "  \u001b[32m1\u001b[39m,\n",
       "  \u001b[32m1\u001b[39m,\n",
       "  \u001b[32m1\u001b[39m,\n",
       "  \u001b[32m1\u001b[39m,\n",
       "  \u001b[32m1\u001b[39m,\n",
       "  \u001b[32m2\u001b[39m,\n",
       "  \u001b[32m3\u001b[39m,\n",
       "  \u001b[32m1\u001b[39m,\n",
       "  \u001b[32m1\u001b[39m,\n",
       "  \u001b[32m2\u001b[39m,\n",
       "  \u001b[32m1\u001b[39m,\n",
       "  \u001b[32m1\u001b[39m,\n",
       "  \u001b[32m1\u001b[39m,\n",
       "  \u001b[32m2\u001b[39m,\n",
       "  \u001b[32m1\u001b[39m,\n",
       "  \u001b[32m1\u001b[39m,\n",
       "  \u001b[32m2\u001b[39m,\n",
       "  \u001b[32m1\u001b[39m,\n",
       "  \u001b[32m1\u001b[39m,\n",
       "  \u001b[32m3\u001b[39m,\n",
       "  \u001b[32m1\u001b[39m,\n",
       "  \u001b[32m1\u001b[39m,\n",
       "  \u001b[32m4\u001b[39m,\n",
       "  \u001b[32m1\u001b[39m,\n",
       "  \u001b[32m2\u001b[39m,\n",
       "  \u001b[32m1\u001b[39m,\n",
       "  \u001b[32m1\u001b[39m,\n",
       "  \u001b[32m1\u001b[39m,\n",
       "  \u001b[32m1\u001b[39m\n",
       ")\n",
       "\u001b[36mres13_6\u001b[39m: \u001b[32mString\u001b[39m = \u001b[32m\"plot-bf228d5c-de91-4b68-a885-98733b917ad2\"\u001b[39m"
      ]
     },
     "execution_count": 13,
     "metadata": {},
     "output_type": "execute_result"
    }
   ],
   "source": [
    "import $ivy.`org.plotly-scala::plotly-almond:0.8.1`\n",
    "\n",
    "import plotly._\n",
    "import plotly.element._\n",
    "import plotly.layout._\n",
    "import plotly.Almond._\n",
    "\n",
    "val (x, y) = words.unzip\n",
    "\n",
    "Bar(x, y).plot()"
   ]
  }
 ],
 "metadata": {
  "kernelspec": {
   "display_name": "Scala (2.13)",
   "language": "scala",
   "name": "scala213"
  },
  "language_info": {
   "codemirror_mode": "text/x-scala",
   "file_extension": ".sc",
   "mimetype": "text/x-scala",
   "name": "scala",
   "nbconvert_exporter": "script",
   "version": "2.13.11"
  },
  "orig_nbformat": 4
 },
 "nbformat": 4,
 "nbformat_minor": 2
}
